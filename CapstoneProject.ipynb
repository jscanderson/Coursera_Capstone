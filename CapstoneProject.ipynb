{
 "cells": [
  {
   "cell_type": "markdown",
   "metadata": {},
   "source": [
    "# Capstone Project\n",
    "This notebook will be used to complete the capstone project for \"Applied Data Science Capstone.\""
   ]
  },
  {
   "cell_type": "code",
   "execution_count": 1,
   "metadata": {},
   "outputs": [
    {
     "name": "stdout",
     "output_type": "stream",
     "text": [
      "Hello Capstone Project Course!\n"
     ]
    }
   ],
   "source": [
    "import pandas as pd\n",
    "import numpy as np\n",
    "print(\"Hello Capstone Project Course!\")"
   ]
  },
  {
   "cell_type": "code",
   "execution_count": 2,
   "metadata": {},
   "outputs": [],
   "source": [
    "#More imports needed for later in the notebook:\n",
    "import matplotlib.pyplot as plt\n",
    "%matplotlib inline\n",
    "from sklearn.model_selection import train_test_split\n",
    "from sklearn.linear_model import LogisticRegression\n",
    "from sklearn.metrics import jaccard_score\n",
    "from sklearn.metrics import f1_score\n",
    "from sklearn.metrics import precision_score\n",
    "from sklearn.metrics import recall_score\n",
    "from sklearn.neighbors import KNeighborsClassifier"
   ]
  },
  {
   "cell_type": "markdown",
   "metadata": {},
   "source": [
    "## Introduction\n",
    "The ability to judge the likelihood of a severe traffic accident given the weather and road conditions has a number of useful applications. One potential use of this information would be warning drivers of unsafe driving conditions on their route. Another might be automatic recommendation of speed limit adjustments on roads where this is possible. This project seeks to use machine learning to determine if weather and road conditions can be used to predict the likelihood of increased accident severity."
   ]
  },
  {
   "cell_type": "markdown",
   "metadata": {},
   "source": [
    "## Data\n",
    "This project will use a data set of traffic collisions recorded by the Seattle Police Department and Traffic Records (the data set provided by the course). This data set provides a set of descriptive features of each collision, as well as the environment where each collision occured, such as weather and road conditions. The data is labeled with a number from 0 to 3 indicating the severity of each collision. To predict whether a collision that occurs has a high probability of being severe, I will use the environmental features of this data set as well as the severity labels to train a machine learning model."
   ]
  },
  {
   "cell_type": "markdown",
   "metadata": {},
   "source": [
    "## Methodology\n",
    "The first stage of building a model to predict collision severity is preparation of the data."
   ]
  },
  {
   "cell_type": "code",
   "execution_count": 3,
   "metadata": {},
   "outputs": [
    {
     "name": "stderr",
     "output_type": "stream",
     "text": [
      "C:\\Users\\Joel\\anaconda3\\lib\\site-packages\\IPython\\core\\interactiveshell.py:3071: DtypeWarning: Columns (33) have mixed types.Specify dtype option on import or set low_memory=False.\n",
      "  has_raised = await self.run_ast_nodes(code_ast.body, cell_name,\n"
     ]
    },
    {
     "data": {
      "text/html": [
       "<div>\n",
       "<style scoped>\n",
       "    .dataframe tbody tr th:only-of-type {\n",
       "        vertical-align: middle;\n",
       "    }\n",
       "\n",
       "    .dataframe tbody tr th {\n",
       "        vertical-align: top;\n",
       "    }\n",
       "\n",
       "    .dataframe thead th {\n",
       "        text-align: right;\n",
       "    }\n",
       "</style>\n",
       "<table border=\"1\" class=\"dataframe\">\n",
       "  <thead>\n",
       "    <tr style=\"text-align: right;\">\n",
       "      <th></th>\n",
       "      <th>SEVERITYCODE</th>\n",
       "      <th>X</th>\n",
       "      <th>Y</th>\n",
       "      <th>OBJECTID</th>\n",
       "      <th>INCKEY</th>\n",
       "      <th>COLDETKEY</th>\n",
       "      <th>REPORTNO</th>\n",
       "      <th>STATUS</th>\n",
       "      <th>ADDRTYPE</th>\n",
       "      <th>INTKEY</th>\n",
       "      <th>...</th>\n",
       "      <th>ROADCOND</th>\n",
       "      <th>LIGHTCOND</th>\n",
       "      <th>PEDROWNOTGRNT</th>\n",
       "      <th>SDOTCOLNUM</th>\n",
       "      <th>SPEEDING</th>\n",
       "      <th>ST_COLCODE</th>\n",
       "      <th>ST_COLDESC</th>\n",
       "      <th>SEGLANEKEY</th>\n",
       "      <th>CROSSWALKKEY</th>\n",
       "      <th>HITPARKEDCAR</th>\n",
       "    </tr>\n",
       "  </thead>\n",
       "  <tbody>\n",
       "    <tr>\n",
       "      <th>0</th>\n",
       "      <td>2</td>\n",
       "      <td>-122.323148</td>\n",
       "      <td>47.703140</td>\n",
       "      <td>1</td>\n",
       "      <td>1307</td>\n",
       "      <td>1307</td>\n",
       "      <td>3502005</td>\n",
       "      <td>Matched</td>\n",
       "      <td>Intersection</td>\n",
       "      <td>37475.0</td>\n",
       "      <td>...</td>\n",
       "      <td>Wet</td>\n",
       "      <td>Daylight</td>\n",
       "      <td>NaN</td>\n",
       "      <td>NaN</td>\n",
       "      <td>NaN</td>\n",
       "      <td>10</td>\n",
       "      <td>Entering at angle</td>\n",
       "      <td>0</td>\n",
       "      <td>0</td>\n",
       "      <td>N</td>\n",
       "    </tr>\n",
       "    <tr>\n",
       "      <th>1</th>\n",
       "      <td>1</td>\n",
       "      <td>-122.347294</td>\n",
       "      <td>47.647172</td>\n",
       "      <td>2</td>\n",
       "      <td>52200</td>\n",
       "      <td>52200</td>\n",
       "      <td>2607959</td>\n",
       "      <td>Matched</td>\n",
       "      <td>Block</td>\n",
       "      <td>NaN</td>\n",
       "      <td>...</td>\n",
       "      <td>Wet</td>\n",
       "      <td>Dark - Street Lights On</td>\n",
       "      <td>NaN</td>\n",
       "      <td>6354039.0</td>\n",
       "      <td>NaN</td>\n",
       "      <td>11</td>\n",
       "      <td>From same direction - both going straight - bo...</td>\n",
       "      <td>0</td>\n",
       "      <td>0</td>\n",
       "      <td>N</td>\n",
       "    </tr>\n",
       "    <tr>\n",
       "      <th>2</th>\n",
       "      <td>1</td>\n",
       "      <td>-122.334540</td>\n",
       "      <td>47.607871</td>\n",
       "      <td>3</td>\n",
       "      <td>26700</td>\n",
       "      <td>26700</td>\n",
       "      <td>1482393</td>\n",
       "      <td>Matched</td>\n",
       "      <td>Block</td>\n",
       "      <td>NaN</td>\n",
       "      <td>...</td>\n",
       "      <td>Dry</td>\n",
       "      <td>Daylight</td>\n",
       "      <td>NaN</td>\n",
       "      <td>4323031.0</td>\n",
       "      <td>NaN</td>\n",
       "      <td>32</td>\n",
       "      <td>One parked--one moving</td>\n",
       "      <td>0</td>\n",
       "      <td>0</td>\n",
       "      <td>N</td>\n",
       "    </tr>\n",
       "    <tr>\n",
       "      <th>3</th>\n",
       "      <td>1</td>\n",
       "      <td>-122.334803</td>\n",
       "      <td>47.604803</td>\n",
       "      <td>4</td>\n",
       "      <td>1144</td>\n",
       "      <td>1144</td>\n",
       "      <td>3503937</td>\n",
       "      <td>Matched</td>\n",
       "      <td>Block</td>\n",
       "      <td>NaN</td>\n",
       "      <td>...</td>\n",
       "      <td>Dry</td>\n",
       "      <td>Daylight</td>\n",
       "      <td>NaN</td>\n",
       "      <td>NaN</td>\n",
       "      <td>NaN</td>\n",
       "      <td>23</td>\n",
       "      <td>From same direction - all others</td>\n",
       "      <td>0</td>\n",
       "      <td>0</td>\n",
       "      <td>N</td>\n",
       "    </tr>\n",
       "    <tr>\n",
       "      <th>4</th>\n",
       "      <td>2</td>\n",
       "      <td>-122.306426</td>\n",
       "      <td>47.545739</td>\n",
       "      <td>5</td>\n",
       "      <td>17700</td>\n",
       "      <td>17700</td>\n",
       "      <td>1807429</td>\n",
       "      <td>Matched</td>\n",
       "      <td>Intersection</td>\n",
       "      <td>34387.0</td>\n",
       "      <td>...</td>\n",
       "      <td>Wet</td>\n",
       "      <td>Daylight</td>\n",
       "      <td>NaN</td>\n",
       "      <td>4028032.0</td>\n",
       "      <td>NaN</td>\n",
       "      <td>10</td>\n",
       "      <td>Entering at angle</td>\n",
       "      <td>0</td>\n",
       "      <td>0</td>\n",
       "      <td>N</td>\n",
       "    </tr>\n",
       "  </tbody>\n",
       "</table>\n",
       "<p>5 rows × 38 columns</p>\n",
       "</div>"
      ],
      "text/plain": [
       "   SEVERITYCODE           X          Y  OBJECTID  INCKEY  COLDETKEY REPORTNO  \\\n",
       "0             2 -122.323148  47.703140         1    1307       1307  3502005   \n",
       "1             1 -122.347294  47.647172         2   52200      52200  2607959   \n",
       "2             1 -122.334540  47.607871         3   26700      26700  1482393   \n",
       "3             1 -122.334803  47.604803         4    1144       1144  3503937   \n",
       "4             2 -122.306426  47.545739         5   17700      17700  1807429   \n",
       "\n",
       "    STATUS      ADDRTYPE   INTKEY  ... ROADCOND                LIGHTCOND  \\\n",
       "0  Matched  Intersection  37475.0  ...      Wet                 Daylight   \n",
       "1  Matched         Block      NaN  ...      Wet  Dark - Street Lights On   \n",
       "2  Matched         Block      NaN  ...      Dry                 Daylight   \n",
       "3  Matched         Block      NaN  ...      Dry                 Daylight   \n",
       "4  Matched  Intersection  34387.0  ...      Wet                 Daylight   \n",
       "\n",
       "  PEDROWNOTGRNT  SDOTCOLNUM SPEEDING ST_COLCODE  \\\n",
       "0           NaN         NaN      NaN         10   \n",
       "1           NaN   6354039.0      NaN         11   \n",
       "2           NaN   4323031.0      NaN         32   \n",
       "3           NaN         NaN      NaN         23   \n",
       "4           NaN   4028032.0      NaN         10   \n",
       "\n",
       "                                          ST_COLDESC  SEGLANEKEY  \\\n",
       "0                                  Entering at angle           0   \n",
       "1  From same direction - both going straight - bo...           0   \n",
       "2                             One parked--one moving           0   \n",
       "3                   From same direction - all others           0   \n",
       "4                                  Entering at angle           0   \n",
       "\n",
       "   CROSSWALKKEY  HITPARKEDCAR  \n",
       "0             0             N  \n",
       "1             0             N  \n",
       "2             0             N  \n",
       "3             0             N  \n",
       "4             0             N  \n",
       "\n",
       "[5 rows x 38 columns]"
      ]
     },
     "execution_count": 3,
     "metadata": {},
     "output_type": "execute_result"
    }
   ],
   "source": [
    "#Read in the data and take a brief look\n",
    "#df = pd.read_csv('https://s3.us.cloud-object-storage.appdomain.cloud/cf-courses-data/CognitiveClass/DP0701EN/version-2/Data-Collisions.csv')\n",
    "df = pd.read_csv('Data-Collisions.csv')\n",
    "df.head()"
   ]
  },
  {
   "cell_type": "markdown",
   "metadata": {},
   "source": [
    "Because we want to be able to predict increased risk of accident severity, we should only use features that could be determined before an accident occurs. Many of the columns in the dataset are descriptions of an accident that has already occured, and are therefore inappropriate to use in this study. Looking at the columns, the only features that can be determined before a collision occurs are the type of address (ADDRTYPE), the weather (WEATHER), the conditions of the road (ROADCOND), the lighting conditions (LIGHTCOND), whether a vehicle is going above the speed limit (SPEEDING). However, it's worth noting that the SPEEDING category has a large number of null entries, as shown with the code below. For this reason, the SPEEDING column will not be used as a feature."
   ]
  },
  {
   "cell_type": "code",
   "execution_count": 4,
   "metadata": {},
   "outputs": [
    {
     "data": {
      "text/plain": [
       "True     185340\n",
       "False      9333\n",
       "Name: SPEEDING, dtype: int64"
      ]
     },
     "execution_count": 4,
     "metadata": {},
     "output_type": "execute_result"
    }
   ],
   "source": [
    "df['SPEEDING'].isnull().value_counts()"
   ]
  },
  {
   "cell_type": "markdown",
   "metadata": {},
   "source": [
    "After trimming out all of the features that can't be determined until after the collision occurs, we still have to deal with missing data. In this case, any row that has a null value in any column is dropped. This option was chosen because only a relatively small number of entries contain a null value."
   ]
  },
  {
   "cell_type": "code",
   "execution_count": 5,
   "metadata": {},
   "outputs": [
    {
     "name": "stdout",
     "output_type": "stream",
     "text": [
      "(194673, 5)\n",
      "(187525, 5)\n"
     ]
    },
    {
     "name": "stderr",
     "output_type": "stream",
     "text": [
      "<ipython-input-5-463c5a0e3d52>:6: SettingWithCopyWarning: \n",
      "A value is trying to be set on a copy of a slice from a DataFrame\n",
      "\n",
      "See the caveats in the documentation: https://pandas.pydata.org/pandas-docs/stable/user_guide/indexing.html#returning-a-view-versus-a-copy\n",
      "  df_2.dropna(0,inplace=True)\n"
     ]
    }
   ],
   "source": [
    "#First, let's trim out all of the columns that we won't be using. For this, let's only keep: SEVERITYCODE, ADDRTYPE, WEATHER, ROADCOND, LIGHTCOND\n",
    "df_2 = df[['SEVERITYCODE', 'ADDRTYPE','WEATHER','ROADCOND','LIGHTCOND']]\n",
    "print(df_2.shape)\n",
    "\n",
    "#Some rows have null values in some fields. Let's drop any row that contains a null value\n",
    "df_2.dropna(0,inplace=True)\n",
    "print(df_2.shape)\n"
   ]
  },
  {
   "cell_type": "markdown",
   "metadata": {},
   "source": [
    "Now that the null values have been removed, it's still good to check what values exist in each column."
   ]
  },
  {
   "cell_type": "code",
   "execution_count": 6,
   "metadata": {},
   "outputs": [
    {
     "name": "stdout",
     "output_type": "stream",
     "text": [
      "Block           123321\n",
      "Intersection     63462\n",
      "Alley              742\n",
      "Name: ADDRTYPE, dtype: int64\n",
      "Clear                       110499\n",
      "Raining                      32976\n",
      "Overcast                     27551\n",
      "Unknown                      14059\n",
      "Snowing                        896\n",
      "Other                          790\n",
      "Fog/Smog/Smoke                 563\n",
      "Sleet/Hail/Freezing Rain       112\n",
      "Blowing Sand/Dirt               49\n",
      "Severe Crosswind                25\n",
      "Partly Cloudy                    5\n",
      "Name: WEATHER, dtype: int64\n",
      "Dry               123736\n",
      "Wet                47223\n",
      "Unknown            14009\n",
      "Ice                 1193\n",
      "Snow/Slush           992\n",
      "Other                124\n",
      "Standing Water       111\n",
      "Sand/Mud/Dirt         73\n",
      "Oil                   64\n",
      "Name: ROADCOND, dtype: int64\n",
      "Daylight                    115408\n",
      "Dark - Street Lights On      48236\n",
      "Unknown                      12599\n",
      "Dusk                          5843\n",
      "Dawn                          2491\n",
      "Dark - No Street Lights       1526\n",
      "Dark - Street Lights Off      1184\n",
      "Other                          227\n",
      "Dark - Unknown Lighting         11\n",
      "Name: LIGHTCOND, dtype: int64\n"
     ]
    }
   ],
   "source": [
    "#Let's make sure the other values make senes\n",
    "print(df_2['ADDRTYPE'].value_counts())\n",
    "print(df_2['WEATHER'].value_counts())\n",
    "print(df_2['ROADCOND'].value_counts())\n",
    "print(df_2['LIGHTCOND'].value_counts())"
   ]
  },
  {
   "cell_type": "markdown",
   "metadata": {},
   "source": [
    "Notice that many columns have possible values of \"Unknown\" or \"Other,\" which will not be useful for our purposes. The code below removes rows that contain values such as these. Fortunately, these types of entries are rare, and we still retain the vast majority of our dataset."
   ]
  },
  {
   "cell_type": "code",
   "execution_count": 7,
   "metadata": {},
   "outputs": [
    {
     "data": {
      "text/plain": [
       "(169239, 5)"
      ]
     },
     "execution_count": 7,
     "metadata": {},
     "output_type": "execute_result"
    }
   ],
   "source": [
    "#Also eliminate rows of the dataframe that contain unknown values. We'll notice that the dataframe still retains over 160,000 entries\n",
    "keepWEATHER = ~((df_2['WEATHER'] == 'Unknown') | (df_2['WEATHER'] == 'Other'))\n",
    "keepROADCOND = ~((df_2['ROADCOND'] == 'Unknown') | (df_2['ROADCOND'] == 'Other'))\n",
    "keepLIGHTCOND = ~((df_2['LIGHTCOND'] == 'Unknown') | (df_2['LIGHTCOND'] == 'Other') | (df_2['LIGHTCOND'] == 'Dark - Unknown Lighting'))\n",
    "keep = keepWEATHER & keepROADCOND & keepLIGHTCOND\n",
    "df_2 = df_2[keep]\n",
    "df_2.shape"
   ]
  },
  {
   "cell_type": "markdown",
   "metadata": {},
   "source": [
    "Since all of the features we are using in our data set are categorical (and thus not conducive to training some models), I convert all of our features into logical columns, where each possible value for a feature is its own column, and a 1 indicates that that collision had that value in the original feature column."
   ]
  },
  {
   "cell_type": "code",
   "execution_count": 29,
   "metadata": {},
   "outputs": [
    {
     "data": {
      "text/html": [
       "<div>\n",
       "<style scoped>\n",
       "    .dataframe tbody tr th:only-of-type {\n",
       "        vertical-align: middle;\n",
       "    }\n",
       "\n",
       "    .dataframe tbody tr th {\n",
       "        vertical-align: top;\n",
       "    }\n",
       "\n",
       "    .dataframe thead th {\n",
       "        text-align: right;\n",
       "    }\n",
       "</style>\n",
       "<table border=\"1\" class=\"dataframe\">\n",
       "  <thead>\n",
       "    <tr style=\"text-align: right;\">\n",
       "      <th></th>\n",
       "      <th>SEVERITYCODE</th>\n",
       "      <th>ADDRTYPE_Alley</th>\n",
       "      <th>ADDRTYPE_Block</th>\n",
       "      <th>ADDRTYPE_Intersection</th>\n",
       "      <th>WEATHER_Blowing Sand/Dirt</th>\n",
       "      <th>WEATHER_Clear</th>\n",
       "      <th>WEATHER_Fog/Smog/Smoke</th>\n",
       "      <th>WEATHER_Overcast</th>\n",
       "      <th>WEATHER_Partly Cloudy</th>\n",
       "      <th>WEATHER_Raining</th>\n",
       "      <th>...</th>\n",
       "      <th>ROADCOND_Sand/Mud/Dirt</th>\n",
       "      <th>ROADCOND_Snow/Slush</th>\n",
       "      <th>ROADCOND_Standing Water</th>\n",
       "      <th>ROADCOND_Wet</th>\n",
       "      <th>LIGHTCOND_Dark - No Street Lights</th>\n",
       "      <th>LIGHTCOND_Dark - Street Lights Off</th>\n",
       "      <th>LIGHTCOND_Dark - Street Lights On</th>\n",
       "      <th>LIGHTCOND_Dawn</th>\n",
       "      <th>LIGHTCOND_Daylight</th>\n",
       "      <th>LIGHTCOND_Dusk</th>\n",
       "    </tr>\n",
       "  </thead>\n",
       "  <tbody>\n",
       "    <tr>\n",
       "      <th>0</th>\n",
       "      <td>2</td>\n",
       "      <td>0</td>\n",
       "      <td>0</td>\n",
       "      <td>1</td>\n",
       "      <td>0</td>\n",
       "      <td>0</td>\n",
       "      <td>0</td>\n",
       "      <td>1</td>\n",
       "      <td>0</td>\n",
       "      <td>0</td>\n",
       "      <td>...</td>\n",
       "      <td>0</td>\n",
       "      <td>0</td>\n",
       "      <td>0</td>\n",
       "      <td>1</td>\n",
       "      <td>0</td>\n",
       "      <td>0</td>\n",
       "      <td>0</td>\n",
       "      <td>0</td>\n",
       "      <td>1</td>\n",
       "      <td>0</td>\n",
       "    </tr>\n",
       "    <tr>\n",
       "      <th>1</th>\n",
       "      <td>1</td>\n",
       "      <td>0</td>\n",
       "      <td>1</td>\n",
       "      <td>0</td>\n",
       "      <td>0</td>\n",
       "      <td>0</td>\n",
       "      <td>0</td>\n",
       "      <td>0</td>\n",
       "      <td>0</td>\n",
       "      <td>1</td>\n",
       "      <td>...</td>\n",
       "      <td>0</td>\n",
       "      <td>0</td>\n",
       "      <td>0</td>\n",
       "      <td>1</td>\n",
       "      <td>0</td>\n",
       "      <td>0</td>\n",
       "      <td>1</td>\n",
       "      <td>0</td>\n",
       "      <td>0</td>\n",
       "      <td>0</td>\n",
       "    </tr>\n",
       "    <tr>\n",
       "      <th>2</th>\n",
       "      <td>1</td>\n",
       "      <td>0</td>\n",
       "      <td>1</td>\n",
       "      <td>0</td>\n",
       "      <td>0</td>\n",
       "      <td>0</td>\n",
       "      <td>0</td>\n",
       "      <td>1</td>\n",
       "      <td>0</td>\n",
       "      <td>0</td>\n",
       "      <td>...</td>\n",
       "      <td>0</td>\n",
       "      <td>0</td>\n",
       "      <td>0</td>\n",
       "      <td>0</td>\n",
       "      <td>0</td>\n",
       "      <td>0</td>\n",
       "      <td>0</td>\n",
       "      <td>0</td>\n",
       "      <td>1</td>\n",
       "      <td>0</td>\n",
       "    </tr>\n",
       "    <tr>\n",
       "      <th>3</th>\n",
       "      <td>1</td>\n",
       "      <td>0</td>\n",
       "      <td>1</td>\n",
       "      <td>0</td>\n",
       "      <td>0</td>\n",
       "      <td>1</td>\n",
       "      <td>0</td>\n",
       "      <td>0</td>\n",
       "      <td>0</td>\n",
       "      <td>0</td>\n",
       "      <td>...</td>\n",
       "      <td>0</td>\n",
       "      <td>0</td>\n",
       "      <td>0</td>\n",
       "      <td>0</td>\n",
       "      <td>0</td>\n",
       "      <td>0</td>\n",
       "      <td>0</td>\n",
       "      <td>0</td>\n",
       "      <td>1</td>\n",
       "      <td>0</td>\n",
       "    </tr>\n",
       "    <tr>\n",
       "      <th>4</th>\n",
       "      <td>2</td>\n",
       "      <td>0</td>\n",
       "      <td>0</td>\n",
       "      <td>1</td>\n",
       "      <td>0</td>\n",
       "      <td>0</td>\n",
       "      <td>0</td>\n",
       "      <td>0</td>\n",
       "      <td>0</td>\n",
       "      <td>1</td>\n",
       "      <td>...</td>\n",
       "      <td>0</td>\n",
       "      <td>0</td>\n",
       "      <td>0</td>\n",
       "      <td>1</td>\n",
       "      <td>0</td>\n",
       "      <td>0</td>\n",
       "      <td>0</td>\n",
       "      <td>0</td>\n",
       "      <td>1</td>\n",
       "      <td>0</td>\n",
       "    </tr>\n",
       "  </tbody>\n",
       "</table>\n",
       "<p>5 rows × 26 columns</p>\n",
       "</div>"
      ],
      "text/plain": [
       "   SEVERITYCODE  ADDRTYPE_Alley  ADDRTYPE_Block  ADDRTYPE_Intersection  \\\n",
       "0             2               0               0                      1   \n",
       "1             1               0               1                      0   \n",
       "2             1               0               1                      0   \n",
       "3             1               0               1                      0   \n",
       "4             2               0               0                      1   \n",
       "\n",
       "   WEATHER_Blowing Sand/Dirt  WEATHER_Clear  WEATHER_Fog/Smog/Smoke  \\\n",
       "0                          0              0                       0   \n",
       "1                          0              0                       0   \n",
       "2                          0              0                       0   \n",
       "3                          0              1                       0   \n",
       "4                          0              0                       0   \n",
       "\n",
       "   WEATHER_Overcast  WEATHER_Partly Cloudy  WEATHER_Raining  ...  \\\n",
       "0                 1                      0                0  ...   \n",
       "1                 0                      0                1  ...   \n",
       "2                 1                      0                0  ...   \n",
       "3                 0                      0                0  ...   \n",
       "4                 0                      0                1  ...   \n",
       "\n",
       "   ROADCOND_Sand/Mud/Dirt  ROADCOND_Snow/Slush  ROADCOND_Standing Water  \\\n",
       "0                       0                    0                        0   \n",
       "1                       0                    0                        0   \n",
       "2                       0                    0                        0   \n",
       "3                       0                    0                        0   \n",
       "4                       0                    0                        0   \n",
       "\n",
       "   ROADCOND_Wet  LIGHTCOND_Dark - No Street Lights  \\\n",
       "0             1                                  0   \n",
       "1             1                                  0   \n",
       "2             0                                  0   \n",
       "3             0                                  0   \n",
       "4             1                                  0   \n",
       "\n",
       "   LIGHTCOND_Dark - Street Lights Off  LIGHTCOND_Dark - Street Lights On  \\\n",
       "0                                   0                                  0   \n",
       "1                                   0                                  1   \n",
       "2                                   0                                  0   \n",
       "3                                   0                                  0   \n",
       "4                                   0                                  0   \n",
       "\n",
       "   LIGHTCOND_Dawn  LIGHTCOND_Daylight  LIGHTCOND_Dusk  \n",
       "0               0                   1               0  \n",
       "1               0                   0               0  \n",
       "2               0                   1               0  \n",
       "3               0                   1               0  \n",
       "4               0                   1               0  \n",
       "\n",
       "[5 rows x 26 columns]"
      ]
     },
     "execution_count": 29,
     "metadata": {},
     "output_type": "execute_result"
    }
   ],
   "source": [
    "#As all of our features are categorical, let's turn them into dummy integer variables.\n",
    "df_3 = pd.get_dummies(df_2)\n",
    "df_3.head()"
   ]
  },
  {
   "cell_type": "markdown",
   "metadata": {},
   "source": [
    "The last step of data preparation is to adjust the values in the SEVERITYCODE column (the target). Because the only entries we have are 1 or 2, for simplicity I relabel them as 0 or 1, with 0 indicating collisions that are not severe, and 1 indicating a more severe collision."
   ]
  },
  {
   "cell_type": "code",
   "execution_count": 30,
   "metadata": {},
   "outputs": [],
   "source": [
    "#Finally, since we only have 1's and 2's in the SEVERITYCODE column, let's relabel so that 1 becomes 0 (not severe)\n",
    "#and anything greater than 1 becomes 1 (severe)\n",
    "df_3['SEVERITYCODE'] = df_3['SEVERITYCODE']-1"
   ]
  },
  {
   "cell_type": "markdown",
   "metadata": {},
   "source": [
    "Before testing a model, split the data into training and testing sets."
   ]
  },
  {
   "cell_type": "code",
   "execution_count": 31,
   "metadata": {},
   "outputs": [
    {
     "name": "stdout",
     "output_type": "stream",
     "text": [
      "(135391, 25) (135391, 1)\n",
      "(33848, 25) (33848, 1)\n"
     ]
    }
   ],
   "source": [
    "X_train, X_test, y_train, y_test = train_test_split( df_3.drop('SEVERITYCODE',axis=1), \\\n",
    "                                                    df_3[['SEVERITYCODE']], test_size=0.2, random_state=0)\n",
    "print(X_train.shape, y_train.shape)\n",
    "print(X_test.shape, y_test.shape)"
   ]
  },
  {
   "cell_type": "markdown",
   "metadata": {},
   "source": [
    "Now we're ready to select and train a model. Since our data is labeled, we use a supervised model. Because the target is a categorical variable and because we want to calculate a probability of an accident being severe, logistic regression seems like a good place to start."
   ]
  },
  {
   "cell_type": "code",
   "execution_count": 32,
   "metadata": {},
   "outputs": [
    {
     "name": "stdout",
     "output_type": "stream",
     "text": [
      "Max Jaccard score of  0.45115622924568377  for C =  0.06599059954035558\n"
     ]
    },
    {
     "data": {
      "text/plain": [
       "[<matplotlib.lines.Line2D at 0x27539459a60>]"
      ]
     },
     "execution_count": 32,
     "metadata": {},
     "output_type": "execute_result"
    },
    {
     "data": {
      "image/png": "[encoded data removed]",
      "text/plain": [
       "<Figure size 432x288 with 1 Axes>"
      ]
     },
     "metadata": {
      "needs_background": "light"
     },
     "output_type": "display_data"
    }
   ],
   "source": [
    "#Initialize an array of regularization values to try\n",
    "Carray = np.geomspace(0.01,0.25,30) #parameters are: Starting C, Ending C, number of C's to try\n",
    "\n",
    "#Initialize array to hold Jaccard similarity scores to evaluate the model\n",
    "Jarray = np.zeros(len(Carray))\n",
    "\n",
    "#Loop over the c values to try\n",
    "for i,c in enumerate(Carray):\n",
    "    LR = LogisticRegression(C=c, solver = 'liblinear').fit(X_train,y_train.values.ravel())\n",
    "    yhat = LR.predict(X_test)\n",
    "    Jarray[i] = jaccard_score(y_test,yhat,average='weighted')\n",
    "    \n",
    "#Print out which C value gave the best Jaccard similarity score\n",
    "print('Max Jaccard score of ', Jarray.max(), ' for C = ', Carray[Jarray.argmax()])\n",
    "\n",
    "#Plot Jaccard score relative to regularization\n",
    "plt.plot(Carray,Jarray)"
   ]
  },
  {
   "cell_type": "code",
   "execution_count": 33,
   "metadata": {},
   "outputs": [
    {
     "name": "stdout",
     "output_type": "stream",
     "text": [
      "1.0\n",
      "8.997660608241857e-05\n",
      "0.5397909683679565\n",
      "1\n"
     ]
    }
   ],
   "source": [
    "#Try computing F1 score of best LR model\n",
    "LR = LogisticRegression(C=Carray[Jarray.argmax()], solver = 'liblinear').fit(X_train,y_train.values.ravel())\n",
    "yhat = LR.predict(X_test)\n",
    "print(precision_score(y_test,yhat))\n",
    "print(recall_score(y_test,yhat))\n",
    "print(f1_score(y_test,yhat,average='weighted'))\n",
    "print(yhat.sum())"
   ]
  },
  {
   "cell_type": "markdown",
   "metadata": {},
   "source": [
    "It appears that a Logistic Regression model is quite poor at predicting whether certain conditions will lead to more severe accidents. In particular, this model seems to be underfitting the data, as it only predicts severe accidents for one case in the test set. At this stage, it's worth taking a look at a different model, for example a K-nearest-neighbors model."
   ]
  },
  {
   "cell_type": "code",
   "execution_count": 49,
   "metadata": {},
   "outputs": [
    {
     "name": "stdout",
     "output_type": "stream",
     "text": [
      "Done testing k =  1\n",
      "Done testing k =  2\n",
      "Done testing k =  3\n",
      "Done testing k =  4\n",
      "Done testing k =  5\n",
      "Done testing k =  6\n",
      "Done testing k =  7\n",
      "Max Jaccard score of  0.23302059361538915  for k =  1\n"
     ]
    },
    {
     "data": {
      "text/plain": [
       "[<matplotlib.lines.Line2D at 0x1b215ea7f40>]"
      ]
     },
     "execution_count": 49,
     "metadata": {},
     "output_type": "execute_result"
    },
    {
     "data": {
      "image/png": "[encoded data removed]",
      "text/plain": [
       "<Figure size 432x288 with 1 Axes>"
      ]
     },
     "metadata": {
      "needs_background": "light"
     },
     "output_type": "display_data"
    }
   ],
   "source": [
    "#CODE BELOW TAKES A VERY LONG TIME TO RUN. \n",
    "\n",
    "##Try a KNN algorithm instead. While this won't give a probability, it will be able to classify new cases\n",
    "#\n",
    "##Initialize an array of number of neighbors to try\n",
    "#karray = np.array(list(range(1,8)))\n",
    "#\n",
    "##Initialize array to hold Jaccard similarity scores to evaluate the model\n",
    "#Jarray = np.zeros(len(karray))\n",
    "#\n",
    "##Loop over the c values to try\n",
    "#for i,k in enumerate(karray):\n",
    "#    knn = KNeighborsClassifier(n_neighbors=k).fit(X_train,y_train.values.ravel())\n",
    "#    yhat = knn.predict(X_test)\n",
    "#    Jarray[i] = jaccard_score(y_test,yhat)\n",
    "#    print(\"Done testing k = \", k)\n",
    "#    \n",
    "##Print out which C value gave the best Jaccard similarity score\n",
    "#print('Max Jaccard score of ', Jarray.max(), ' for k = ', karray[Jarray.argmax()])\n",
    "#\n",
    "##Plot Jaccard score relative to regularization\n",
    "#plt.plot(karray,Jarray)"
   ]
  },
  {
   "cell_type": "markdown",
   "metadata": {},
   "source": [
    "The KNN model seems to do somewhat better than the logistic regression model. Let's take a look at precision, recall, and F1 score."
   ]
  },
  {
   "cell_type": "code",
   "execution_count": 34,
   "metadata": {},
   "outputs": [
    {
     "name": "stdout",
     "output_type": "stream",
     "text": [
      "0.40370067470864857\n",
      "0.35531761741947093\n",
      "0.6092146540545096\n"
     ]
    },
    {
     "data": {
      "text/plain": [
       "9782"
      ]
     },
     "execution_count": 34,
     "metadata": {},
     "output_type": "execute_result"
    }
   ],
   "source": [
    "knn = KNeighborsClassifier(n_neighbors=1).fit(X_train,y_train.values.ravel())\n",
    "yhat = knn.predict(X_test)\n",
    "print(precision_score(y_test,yhat))\n",
    "print(recall_score(y_test,yhat))\n",
    "print(f1_score(y_test,yhat,average='weighted'))\n",
    "yhat.sum() #How many times did the algorithm predict severe collisions?"
   ]
  },
  {
   "cell_type": "markdown",
   "metadata": {},
   "source": [
    "The K-Nearest-Neighbors classification model performed much better than the logistic regression one. However, both of the models we've tested seem to perform rather poorly with the data. It's worth going back and investigating the individual relationships between each feature and the target variable. We do this by plotting histograms."
   ]
  },
  {
   "cell_type": "code",
   "execution_count": 35,
   "metadata": {},
   "outputs": [
    {
     "data": {
      "text/plain": [
       "array([<matplotlib.axes._subplots.AxesSubplot object at 0x0000027539507D00>,\n",
       "       <matplotlib.axes._subplots.AxesSubplot object at 0x0000027539557A60>],\n",
       "      dtype=object)"
      ]
     },
     "execution_count": 35,
     "metadata": {},
     "output_type": "execute_result"
    },
    {
     "data": {
      "image/png": "[encoded data removed]",
      "text/plain": [
       "<Figure size 432x288 with 2 Axes>"
      ]
     },
     "metadata": {
      "needs_background": "light"
     },
     "output_type": "display_data"
    }
   ],
   "source": [
    "df_2.hist(column = 'ADDRTYPE', by = 'SEVERITYCODE',sharex=True)"
   ]
  },
  {
   "cell_type": "code",
   "execution_count": 36,
   "metadata": {},
   "outputs": [
    {
     "data": {
      "text/plain": [
       "array([<matplotlib.axes._subplots.AxesSubplot object at 0x0000027539BED640>,\n",
       "       <matplotlib.axes._subplots.AxesSubplot object at 0x0000027539A7B760>],\n",
       "      dtype=object)"
      ]
     },
     "execution_count": 36,
     "metadata": {},
     "output_type": "execute_result"
    },
    {
     "data": {
      "image/png": "[encoded data removed]",
      "text/plain": [
       "<Figure size 432x288 with 2 Axes>"
      ]
     },
     "metadata": {
      "needs_background": "light"
     },
     "output_type": "display_data"
    }
   ],
   "source": [
    "df_2.hist(column = 'WEATHER', by = 'SEVERITYCODE',sharex=True)"
   ]
  },
  {
   "cell_type": "code",
   "execution_count": 37,
   "metadata": {},
   "outputs": [
    {
     "data": {
      "text/plain": [
       "array([<matplotlib.axes._subplots.AxesSubplot object at 0x0000027539AD1880>,\n",
       "       <matplotlib.axes._subplots.AxesSubplot object at 0x0000027539B5C400>],\n",
       "      dtype=object)"
      ]
     },
     "execution_count": 37,
     "metadata": {},
     "output_type": "execute_result"
    },
    {
     "data": {
      "image/png": "[encoded data removed]",
      "text/plain": [
       "<Figure size 432x288 with 2 Axes>"
      ]
     },
     "metadata": {
      "needs_background": "light"
     },
     "output_type": "display_data"
    }
   ],
   "source": [
    "df_2.hist(column = 'ROADCOND', by = 'SEVERITYCODE',sharex=True)"
   ]
  },
  {
   "cell_type": "code",
   "execution_count": 38,
   "metadata": {},
   "outputs": [
    {
     "data": {
      "text/plain": [
       "array([<matplotlib.axes._subplots.AxesSubplot object at 0x0000027539C4A4F0>,\n",
       "       <matplotlib.axes._subplots.AxesSubplot object at 0x0000027539C7FA00>],\n",
       "      dtype=object)"
      ]
     },
     "execution_count": 38,
     "metadata": {},
     "output_type": "execute_result"
    },
    {
     "data": {
      "image/png": "[encoded data removed]",
      "text/plain": [
       "<Figure size 432x288 with 2 Axes>"
      ]
     },
     "metadata": {
      "needs_background": "light"
     },
     "output_type": "display_data"
    }
   ],
   "source": [
    "df_2.hist(column = 'LIGHTCOND', by = 'SEVERITYCODE',sharex=True)"
   ]
  },
  {
   "cell_type": "markdown",
   "metadata": {},
   "source": [
    "As can be seen above, both types of collisions have very similar distributions for each feature, with the exception of lighting condition. This can be seen as the relative size of the bars in each of the first three pairs of histograms is quite similar. Based on this, it is little surprise that this data alone was not able to accurately predict the severity of collisions."
   ]
  },
  {
   "cell_type": "markdown",
   "metadata": {},
   "source": [
    "## Results"
   ]
  },
  {
   "cell_type": "markdown",
   "metadata": {},
   "source": [
    "A logistic regression model was trained on the data. The optimal choice of regularization parameter was approximately 0.065. however, the Jaccard similarity score for this model was only about 0.00009. The logistic regression model predicted less severe collisions for almost every case - a result of underfitting. \n",
    "Given the lackluster performance of a logistic regression model, a K-Nearest-Neighbors model was selected. This model performed better, with a Jaccard similarity score of 0.23 and a weighter F1 score of 0.6, however, this is still a somewhat poor predicter of collision severity."
   ]
  },
  {
   "cell_type": "markdown",
   "metadata": {},
   "source": [
    "## Discussion"
   ]
  },
  {
   "cell_type": "markdown",
   "metadata": {},
   "source": [
    "The results of both models chosen to predict collision severity are not encouraging, as both failed to make accurate predictions. One likely explanation for this is the similar distribution of each feature among the different target cases. No single feature is a good predictor of collision severity for this reason, and the results from the machine learning models indicate that few (if any) combinations of them are good predictors."
   ]
  },
  {
   "cell_type": "markdown",
   "metadata": {},
   "source": [
    "## Conclusion"
   ]
  },
  {
   "cell_type": "markdown",
   "metadata": {},
   "source": [
    "A data set describing a set of traffic collisions in the Seattle area was cleaned and analyzed to see if it could be used to make predictions as to the likelihood of severe collisions occuring. After trying two separate machine learning models (Logistic Regression and K-Nearest-Neighbors), it was determined that the features available in this data set are not good predictors of collision severity."
   ]
  },
  {
   "cell_type": "code",
   "execution_count": null,
   "metadata": {},
   "outputs": [],
   "source": []
  }
 ],
 "metadata": {
  "kernelspec": {
   "display_name": "Python 3",
   "language": "python",
   "name": "python3"
  },
  "language_info": {
   "codemirror_mode": {
    "name": "ipython",
    "version": 3
   },
   "file_extension": ".py",
   "mimetype": "text/x-python",
   "name": "python",
   "nbconvert_exporter": "python",
   "pygments_lexer": "ipython3",
   "version": "3.8.3"
  }
 },
 "nbformat": 4,
 "nbformat_minor": 1
}
