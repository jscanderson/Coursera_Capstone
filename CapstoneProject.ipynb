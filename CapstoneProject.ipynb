{
    "cells": [
        {
            "cell_type": "markdown",
            "metadata": {},
            "source": "#Capstone Project\nThis notebook will be used to complete the capstone project for \"Applied Data Science Capstone.\""
        },
        {
            "cell_type": "code",
            "execution_count": 1,
            "metadata": {},
            "outputs": [
                {
                    "name": "stdout",
                    "output_type": "stream",
                    "text": "Hello Capstone Project Course!\n"
                }
            ],
            "source": "import pandas as pd\nimport numpy as np\nprint(\"Hello Capstone Project Course!\")"
        },
        {
            "cell_type": "markdown",
            "metadata": {},
            "source": "##Introduction\nThe ability to judge the likelihood of a severe traffic accident given the weather and road conditions has a number of useful applications. One potential use of this information would be warning drivers of unsafe driving conditions on their route. Another might be automatic recommendation of speed limit adjustments on roads where this is possible. This project seeks to use machine learning to determine if weather and road conditions can be used to predict the likelihood of increased accident severity."
        },
        {
            "cell_type": "markdown",
            "metadata": {},
            "source": "##Data\nThis project will use a data set of traffic collisions recorded by the Seattle Police Department and Traffic Records (the data set provided by the course). This data set provides a set of descriptive features of each collision, as well as the environment where each collision occured, such as weather and road conditions. The data is labeled with a number from 0 to 3 indicating the severity of each collision. To predict whether a collision that occurs has a high probability of being severe, I will use the environmental features of this data set as well as the severity labels to train a machine learning model."
        },
        {
            "cell_type": "code",
            "execution_count": null,
            "metadata": {},
            "outputs": [],
            "source": ""
        }
    ],
    "metadata": {
        "kernelspec": {
            "display_name": "Python 3.6",
            "language": "python",
            "name": "python3"
        },
        "language_info": {
            "codemirror_mode": {
                "name": "ipython",
                "version": 3
            },
            "file_extension": ".py",
            "mimetype": "text/x-python",
            "name": "python",
            "nbconvert_exporter": "python",
            "pygments_lexer": "ipython3",
            "version": "3.6.9"
        }
    },
    "nbformat": 4,
    "nbformat_minor": 1
}